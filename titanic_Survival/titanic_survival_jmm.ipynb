{
 "cells": [
  {
   "cell_type": "markdown",
   "metadata": {},
   "source": [
    "## Titanic Kaggle Analysis"
   ]
  },
  {
   "cell_type": "code",
   "execution_count": 2,
   "metadata": {},
   "outputs": [],
   "source": [
    "import pandas as pd\n",
    "import numpy as np\n",
    "import matplotlib.pyplot as plt\n",
    "import statsmodels.api as sm\n",
    "from sklearn.linear_model import LogisticRegression \n",
    "from sklearn.metrics import classification_report as report\n",
    "from sklearn.model_selection import train_test_split, cross_val_score, ShuffleSplit\n",
    "from statsmodels.multivariate.pca import PCA\n",
    "#%matplotlib notebook"
   ]
  },
  {
   "cell_type": "code",
   "execution_count": 3,
   "metadata": {},
   "outputs": [],
   "source": [
    "def massageData(df):\n",
    "    df.Cabin=df.Cabin.fillna('N')\n",
    "    df['CabinDeck']=df.Cabin.apply(lambda y: y[0])\n",
    "    df['HasAge'] = df.Age.notnull().apply(lambda y: 1 if y else 0)\n",
    "    df['HasCabin'] = df.Cabin.apply(lambda y: 0 if y=='N' else 1)\n",
    "    df['parchMale0']=df.apply(lambda row: 1 if (row['Sex']=='male' and row['Parch']==0) else 0,axis=1)\n",
    "    df['parchMale']=df.apply(lambda row: 1 if (row['Sex']=='male' and row['Parch']>0) else 0, axis=1)\n",
    "    df['sibspMale0']=df.apply(lambda row: 1 if (row['Sex']=='male' and row['SibSp']==0) else 0, axis=1)\n",
    "    df['sibspMale']=df.apply(lambda row: 1 if (row['Sex']=='male' and row['SibSp']>0) else 0, axis=1)\n",
    "    df['parchFemale0']=df.apply(lambda row: 1 if (row['Sex']=='female' and row['Parch']==0) else 0,axis=1)\n",
    "    df['parchFemale']=df.apply(lambda row: 1 if (row['Sex']=='female' and row['Parch']>0) else 0, axis=1)\n",
    "    df['sibspFemale0']=df.apply(lambda row: 1 if (row['Sex']=='female' and row['SibSp']==0) else 0, axis=1)\n",
    "    df['sibspFemale']=df.apply(lambda row: 1 if (row['Sex']=='female' and row['SibSp']>0) else 0, axis=1)\n",
    "    df['pcssMale0']=df.apply(lambda row: 1 if (row['Sex']=='male' and (row['Parch']==0 and row['SibSp']==0)) else 0,axis=1)\n",
    "    df['pcssMale']=df.apply(lambda row: 1 if (row['Sex']=='male' and (row['Parch']>0 or row['SibSp']>0)) else 0, axis=1)\n",
    "    df['pcssFemale0']=df.apply(lambda row: 1 if (row['Sex']=='female' and (row['SibSp']==0 and row['Parch']==0)) else 0, axis=1)\n",
    "    df['pcssFemale']=df.apply(lambda row: 1 if (row['Sex']=='female' and (row['SibSp']>0 or row['Parch']>0)) else 0, axis=1)\n",
    "    df.Age = df.Age.fillna(0)\n",
    "    return df\n",
    "def getDeckDummies(df):\n",
    "    #deckX = pd.get_dummies(df.CabinDeck,prefix='deck')\n",
    "    #if ('deck_T' not in deckX.columns):\n",
    "    #    deckX = deckX.join(pd.Series(np.zeros(deckX.shape[0]),index=deckX.index,name='deck_T'))\n",
    "    deckX = df['HasCabin']\n",
    "    return deckX\n",
    "def getEmbarkDummies(df):\n",
    "    embarkX = pd.get_dummies(df.Embarked,prefix='embark')\n",
    "    return embarkX\n",
    "def getPclassDummies(df):\n",
    "    pclassX = pd.get_dummies(df.Pclass,prefix='class')\n",
    "    return pclassX\n",
    "def getSexX(df):\n",
    "    return df[['pcssMale0','pcssMale','pcssFemale0','pcssFemale']]\n",
    "def getAgeX(df):\n",
    "    return df[['Age','HasAge']]\n",
    "def getFullModelX(df):\n",
    "    deckX = getDeckDummies(df)\n",
    "    embarkX = getEmbarkDummies(df)\n",
    "    pclassX = getPclassDummies(df)\n",
    "    sexX = getSexX(df)\n",
    "    ageX = getAgeX(df)\n",
    "    fareX = df.Fare\n",
    "    return pd.concat([deckX,embarkX,pclassX,sexX,ageX,fareX],axis=1)\n",
    "#    return pd.concat([deckX,pclassX,sexX,ageX,fareX],axis=1)\n",
    "\n"
   ]
  },
  {
   "cell_type": "markdown",
   "metadata": {},
   "source": [
    "#### Data key"
   ]
  },
  {
   "cell_type": "code",
   "execution_count": 4,
   "metadata": {},
   "outputs": [],
   "source": [
    "#survival  Survival: 0 = No, 1 = Yes\n",
    "#pclass    Ticket class: 1 = 1st, 2 = 2nd, 3 = 3rd\n",
    "#sex       Sex\n",
    "#Age       Age in years\n",
    "#sibsp     # of siblings / spouses aboard the Titanic\n",
    "#parch     # of parents / children aboard the Titanic\n",
    "#ticket    Ticket number\n",
    "#fare      Passenger fare\n",
    "#cabin     Cabin number\n",
    "#embarked  Port of Embarkation: C = Cherbourg, Q = Queenstown, S = Southampton"
   ]
  },
  {
   "cell_type": "markdown",
   "metadata": {},
   "source": [
    "### Fullmodel training and predictions"
   ]
  },
  {
   "cell_type": "code",
   "execution_count": 5,
   "metadata": {},
   "outputs": [],
   "source": [
    "trainDF=massageData(pd.read_csv('train.csv',index_col=0))\n",
    "trainX=getFullModelX(trainDF)\n",
    "trainY=trainDF.Survived"
   ]
  },
  {
   "cell_type": "code",
   "execution_count": 6,
   "metadata": {},
   "outputs": [],
   "source": [
    "testDF=massageData(pd.read_csv('test.csv',index_col=0))\n",
    "testX=getFullModelX(testDF)"
   ]
  },
  {
   "cell_type": "code",
   "execution_count": 33,
   "metadata": {},
   "outputs": [
    {
     "name": "stdout",
     "output_type": "stream",
     "text": [
      "Optimization terminated successfully.\n",
      "         Current function value: 0.439823\n",
      "         Iterations: 94\n",
      "         Function evaluations: 98\n",
      "         Gradient evaluations: 98\n"
     ]
    },
    {
     "name": "stderr",
     "output_type": "stream",
     "text": [
      "/opt/conda/envs/pytorch-py35/lib/python3.5/site-packages/statsmodels/base/model.py:473: HessianInversionWarning: Inverting hessian failed, no bse or cov_params available\n",
      "  'available', HessianInversionWarning)\n"
     ]
    }
   ],
   "source": [
    "#%%capture\n",
    "# prevent output\n",
    "X=sm.add_constant(trainX)\n",
    "# Repeat until the Hessian is invertible (otherwise this breaks summary output)\n",
    "#while True:\n",
    "fullModel=sm.Logit(trainY,X).fit(method='bfgs',maxiter=1000)\n",
    "#if (fullModel.normalized_cov_params.any().any()):\n",
    "#    break"
   ]
  },
  {
   "cell_type": "code",
   "execution_count": 34,
   "metadata": {},
   "outputs": [
    {
     "data": {
      "text/plain": [
       "872.0654088508295"
      ]
     },
     "execution_count": 34,
     "metadata": {},
     "output_type": "execute_result"
    }
   ],
   "source": [
    "fullModel.bic"
   ]
  },
  {
   "cell_type": "code",
   "execution_count": null,
   "metadata": {},
   "outputs": [],
   "source": [
    "print(report(trainY,fullModel.predict(X).apply(lambda y: 1 if y > 0.5 else 0)))"
   ]
  },
  {
   "cell_type": "code",
   "execution_count": 143,
   "metadata": {},
   "outputs": [
    {
     "data": {
      "text/plain": [
       "872.17439117742265"
      ]
     },
     "execution_count": 143,
     "metadata": {},
     "output_type": "execute_result"
    }
   ],
   "source": [
    "fullModel.bic"
   ]
  },
  {
   "cell_type": "code",
   "execution_count": 144,
   "metadata": {},
   "outputs": [
    {
     "data": {
      "text/plain": [
       "0.8125701459034792"
      ]
     },
     "execution_count": 144,
     "metadata": {},
     "output_type": "execute_result"
    }
   ],
   "source": [
    "logreg = LogisticRegression(C=100,max_iter=100)\n",
    "logreg.fit(X,trainY)\n",
    "logreg.score(X,trainY)"
   ]
  },
  {
   "cell_type": "code",
   "execution_count": 145,
   "metadata": {},
   "outputs": [
    {
     "name": "stdout",
     "output_type": "stream",
     "text": [
      "0.832089552239 +/- 0.0219695543939\n"
     ]
    }
   ],
   "source": [
    "cv = ShuffleSplit(n_splits=3, test_size=0.3, random_state=590145)\n",
    "cvs=cross_val_score(logreg,X,trainY,cv=cv)\n",
    "print(cvs.mean(),\"+/-\",cvs.std())"
   ]
  },
  {
   "cell_type": "code",
   "execution_count": 146,
   "metadata": {},
   "outputs": [],
   "source": [
    "predictions=fullModel.predict(X).apply(lambda y: 1 if y>0.5 else 0)"
   ]
  },
  {
   "cell_type": "code",
   "execution_count": 147,
   "metadata": {
    "collapsed": true
   },
   "outputs": [],
   "source": [
    "f = open('titanic_predictions.csv','w')\n",
    "f.write('PassengerId,Survived\\n')\n",
    "for i,p in zip(predictions.index,predictions):\n",
    "    f.write(str(i)+','+str(p)+'\\n')\n",
    "f.close()"
   ]
  },
  {
   "cell_type": "markdown",
   "metadata": {},
   "source": [
    "## Individual parameter significance tests"
   ]
  },
  {
   "cell_type": "markdown",
   "metadata": {},
   "source": [
    "### Embarkment: Significant, but likely confounding variable with pClass, Fare, etc"
   ]
  },
  {
   "cell_type": "code",
   "execution_count": 56,
   "metadata": {
    "collapsed": true
   },
   "outputs": [],
   "source": [
    "embarkX = trainX[['embark_C','embark_Q','embark_S']]"
   ]
  },
  {
   "cell_type": "code",
   "execution_count": 57,
   "metadata": {
    "collapsed": true
   },
   "outputs": [],
   "source": [
    "model = sm.Logit(trainY,embarkX)"
   ]
  },
  {
   "cell_type": "code",
   "execution_count": 58,
   "metadata": {},
   "outputs": [
    {
     "name": "stdout",
     "output_type": "stream",
     "text": [
      "Optimization terminated successfully.\n",
      "         Current function value: 0.650800\n",
      "         Iterations 4\n"
     ]
    },
    {
     "data": {
      "text/html": [
       "<table class=\"simpletable\">\n",
       "<caption>Logit Regression Results</caption>\n",
       "<tr>\n",
       "  <th>Dep. Variable:</th>     <td>Survived</td>     <th>  No. Observations:  </th>  <td>   891</td>  \n",
       "</tr>\n",
       "<tr>\n",
       "  <th>Model:</th>               <td>Logit</td>      <th>  Df Residuals:      </th>  <td>   888</td>  \n",
       "</tr>\n",
       "<tr>\n",
       "  <th>Method:</th>               <td>MLE</td>       <th>  Df Model:          </th>  <td>     2</td>  \n",
       "</tr>\n",
       "<tr>\n",
       "  <th>Date:</th>          <td>Sat, 24 Mar 2018</td> <th>  Pseudo R-squ.:     </th>  <td>0.02269</td> \n",
       "</tr>\n",
       "<tr>\n",
       "  <th>Time:</th>              <td>12:56:31</td>     <th>  Log-Likelihood:    </th> <td> -579.86</td> \n",
       "</tr>\n",
       "<tr>\n",
       "  <th>converged:</th>           <td>True</td>       <th>  LL-Null:           </th> <td> -593.33</td> \n",
       "</tr>\n",
       "<tr>\n",
       "  <th> </th>                      <td> </td>        <th>  LLR p-value:       </th> <td>1.420e-06</td>\n",
       "</tr>\n",
       "</table>\n",
       "<table class=\"simpletable\">\n",
       "<tr>\n",
       "      <td></td>        <th>coef</th>     <th>std err</th>      <th>z</th>      <th>P>|z|</th>  <th>[0.025</th>    <th>0.975]</th>  \n",
       "</tr>\n",
       "<tr>\n",
       "  <th>embark_C</th> <td>    0.2151</td> <td>    0.155</td> <td>    1.386</td> <td> 0.166</td> <td>   -0.089</td> <td>    0.519</td>\n",
       "</tr>\n",
       "<tr>\n",
       "  <th>embark_Q</th> <td>   -0.4490</td> <td>    0.234</td> <td>   -1.921</td> <td> 0.055</td> <td>   -0.907</td> <td>    0.009</td>\n",
       "</tr>\n",
       "<tr>\n",
       "  <th>embark_S</th> <td>   -0.6769</td> <td>    0.083</td> <td>   -8.119</td> <td> 0.000</td> <td>   -0.840</td> <td>   -0.513</td>\n",
       "</tr>\n",
       "</table>"
      ],
      "text/plain": [
       "<class 'statsmodels.iolib.summary.Summary'>\n",
       "\"\"\"\n",
       "                           Logit Regression Results                           \n",
       "==============================================================================\n",
       "Dep. Variable:               Survived   No. Observations:                  891\n",
       "Model:                          Logit   Df Residuals:                      888\n",
       "Method:                           MLE   Df Model:                            2\n",
       "Date:                Sat, 24 Mar 2018   Pseudo R-squ.:                 0.02269\n",
       "Time:                        12:56:31   Log-Likelihood:                -579.86\n",
       "converged:                       True   LL-Null:                       -593.33\n",
       "                                        LLR p-value:                 1.420e-06\n",
       "==============================================================================\n",
       "                 coef    std err          z      P>|z|      [0.025      0.975]\n",
       "------------------------------------------------------------------------------\n",
       "embark_C       0.2151      0.155      1.386      0.166      -0.089       0.519\n",
       "embark_Q      -0.4490      0.234     -1.921      0.055      -0.907       0.009\n",
       "embark_S      -0.6769      0.083     -8.119      0.000      -0.840      -0.513\n",
       "==============================================================================\n",
       "\"\"\""
      ]
     },
     "execution_count": 58,
     "metadata": {},
     "output_type": "execute_result"
    }
   ],
   "source": [
    "model=model.fit()\n",
    "model.summary()"
   ]
  },
  {
   "cell_type": "code",
   "execution_count": 59,
   "metadata": {
    "collapsed": true
   },
   "outputs": [],
   "source": [
    "data = trainX.join(trainY)\n",
    "nC = sum(data.embark_C)\n",
    "nQ = sum(data.embark_Q)\n",
    "nS = sum(data.embark_S)\n",
    "surviveCpercent = sum(data[data['embark_C']==1].Survived)/sum(data.embark_C)\n",
    "surviveQpercent = sum(data[data['embark_Q']==1].Survived)/sum(data.embark_Q)\n",
    "surviveSpercent = sum(data[data['embark_S']==1].Survived)/sum(data.embark_S)"
   ]
  },
  {
   "cell_type": "code",
   "execution_count": 60,
   "metadata": {},
   "outputs": [
    {
     "name": "stdout",
     "output_type": "stream",
     "text": [
      "C:  0.553571428571   168\n",
      "Q:  0.38961038961   77\n",
      "S:  0.336956521739   644\n"
     ]
    }
   ],
   "source": [
    "#Survival percentages (by eye) with total \n",
    "#passengers number from that embarkment point\n",
    "print(\"C: \",surviveCpercent,\" \",nC)\n",
    "print(\"Q: \",surviveQpercent,\" \",nQ)\n",
    "print(\"S: \",surviveSpercent,\" \",nS)"
   ]
  },
  {
   "cell_type": "code",
   "execution_count": 166,
   "metadata": {},
   "outputs": [
    {
     "data": {
      "text/html": [
       "<div>\n",
       "<style>\n",
       "    .dataframe thead tr:only-child th {\n",
       "        text-align: right;\n",
       "    }\n",
       "\n",
       "    .dataframe thead th {\n",
       "        text-align: left;\n",
       "    }\n",
       "\n",
       "    .dataframe tbody tr th {\n",
       "        vertical-align: top;\n",
       "    }\n",
       "</style>\n",
       "<table border=\"1\" class=\"dataframe\">\n",
       "  <thead>\n",
       "    <tr style=\"text-align: right;\">\n",
       "      <th></th>\n",
       "      <th>class_1</th>\n",
       "      <th>class_2</th>\n",
       "      <th>class_3</th>\n",
       "      <th>embark_S</th>\n",
       "      <th>embark_Q</th>\n",
       "      <th>embark_C</th>\n",
       "      <th>Fare</th>\n",
       "    </tr>\n",
       "  </thead>\n",
       "  <tbody>\n",
       "    <tr>\n",
       "      <th>class_1</th>\n",
       "      <td>1.000000</td>\n",
       "      <td>-0.288585</td>\n",
       "      <td>-0.626738</td>\n",
       "      <td>-0.170379</td>\n",
       "      <td>-0.155342</td>\n",
       "      <td>0.296423</td>\n",
       "      <td>0.591711</td>\n",
       "    </tr>\n",
       "    <tr>\n",
       "      <th>class_2</th>\n",
       "      <td>-0.288585</td>\n",
       "      <td>1.000000</td>\n",
       "      <td>-0.565210</td>\n",
       "      <td>0.192061</td>\n",
       "      <td>-0.127301</td>\n",
       "      <td>-0.125416</td>\n",
       "      <td>-0.118557</td>\n",
       "    </tr>\n",
       "    <tr>\n",
       "      <th>class_3</th>\n",
       "      <td>-0.626738</td>\n",
       "      <td>-0.565210</td>\n",
       "      <td>1.000000</td>\n",
       "      <td>-0.009511</td>\n",
       "      <td>0.237449</td>\n",
       "      <td>-0.153329</td>\n",
       "      <td>-0.413333</td>\n",
       "    </tr>\n",
       "    <tr>\n",
       "      <th>embark_S</th>\n",
       "      <td>-0.170379</td>\n",
       "      <td>0.192061</td>\n",
       "      <td>-0.009511</td>\n",
       "      <td>1.000000</td>\n",
       "      <td>-0.496624</td>\n",
       "      <td>-0.778359</td>\n",
       "      <td>-0.166603</td>\n",
       "    </tr>\n",
       "    <tr>\n",
       "      <th>embark_Q</th>\n",
       "      <td>-0.155342</td>\n",
       "      <td>-0.127301</td>\n",
       "      <td>0.237449</td>\n",
       "      <td>-0.496624</td>\n",
       "      <td>1.000000</td>\n",
       "      <td>-0.148258</td>\n",
       "      <td>-0.117216</td>\n",
       "    </tr>\n",
       "    <tr>\n",
       "      <th>embark_C</th>\n",
       "      <td>0.296423</td>\n",
       "      <td>-0.125416</td>\n",
       "      <td>-0.153329</td>\n",
       "      <td>-0.778359</td>\n",
       "      <td>-0.148258</td>\n",
       "      <td>1.000000</td>\n",
       "      <td>0.269335</td>\n",
       "    </tr>\n",
       "    <tr>\n",
       "      <th>Fare</th>\n",
       "      <td>0.591711</td>\n",
       "      <td>-0.118557</td>\n",
       "      <td>-0.413333</td>\n",
       "      <td>-0.166603</td>\n",
       "      <td>-0.117216</td>\n",
       "      <td>0.269335</td>\n",
       "      <td>1.000000</td>\n",
       "    </tr>\n",
       "  </tbody>\n",
       "</table>\n",
       "</div>"
      ],
      "text/plain": [
       "           class_1   class_2   class_3  embark_S  embark_Q  embark_C      Fare\n",
       "class_1   1.000000 -0.288585 -0.626738 -0.170379 -0.155342  0.296423  0.591711\n",
       "class_2  -0.288585  1.000000 -0.565210  0.192061 -0.127301 -0.125416 -0.118557\n",
       "class_3  -0.626738 -0.565210  1.000000 -0.009511  0.237449 -0.153329 -0.413333\n",
       "embark_S -0.170379  0.192061 -0.009511  1.000000 -0.496624 -0.778359 -0.166603\n",
       "embark_Q -0.155342 -0.127301  0.237449 -0.496624  1.000000 -0.148258 -0.117216\n",
       "embark_C  0.296423 -0.125416 -0.153329 -0.778359 -0.148258  1.000000  0.269335\n",
       "Fare      0.591711 -0.118557 -0.413333 -0.166603 -0.117216  0.269335  1.000000"
      ]
     },
     "execution_count": 166,
     "metadata": {},
     "output_type": "execute_result"
    }
   ],
   "source": [
    "trainX[['class_1','class_2','class_3','embark_S','embark_Q','embark_C','Fare']].corr()"
   ]
  },
  {
   "cell_type": "markdown",
   "metadata": {},
   "source": [
    "### Sex: very significant"
   ]
  },
  {
   "cell_type": "code",
   "execution_count": 146,
   "metadata": {},
   "outputs": [
    {
     "name": "stdout",
     "output_type": "stream",
     "text": [
      "Optimization terminated successfully.\n",
      "         Current function value: 0.515041\n",
      "         Iterations 5\n"
     ]
    },
    {
     "data": {
      "text/html": [
       "<table class=\"simpletable\">\n",
       "<caption>Logit Regression Results</caption>\n",
       "<tr>\n",
       "  <th>Dep. Variable:</th>     <td>Survived</td>     <th>  No. Observations:  </th>  <td>   891</td>  \n",
       "</tr>\n",
       "<tr>\n",
       "  <th>Model:</th>               <td>Logit</td>      <th>  Df Residuals:      </th>  <td>   889</td>  \n",
       "</tr>\n",
       "<tr>\n",
       "  <th>Method:</th>               <td>MLE</td>       <th>  Df Model:          </th>  <td>     1</td>  \n",
       "</tr>\n",
       "<tr>\n",
       "  <th>Date:</th>          <td>Sat, 24 Mar 2018</td> <th>  Pseudo R-squ.:     </th>  <td>0.2266</td>  \n",
       "</tr>\n",
       "<tr>\n",
       "  <th>Time:</th>              <td>13:36:16</td>     <th>  Log-Likelihood:    </th> <td> -458.90</td> \n",
       "</tr>\n",
       "<tr>\n",
       "  <th>converged:</th>           <td>True</td>       <th>  LL-Null:           </th> <td> -593.33</td> \n",
       "</tr>\n",
       "<tr>\n",
       "  <th> </th>                      <td> </td>        <th>  LLR p-value:       </th> <td>2.020e-60</td>\n",
       "</tr>\n",
       "</table>\n",
       "<table class=\"simpletable\">\n",
       "<tr>\n",
       "     <td></td>       <th>coef</th>     <th>std err</th>      <th>z</th>      <th>P>|z|</th>  <th>[0.025</th>    <th>0.975]</th>  \n",
       "</tr>\n",
       "<tr>\n",
       "  <th>female</th> <td>    1.0566</td> <td>    0.129</td> <td>    8.191</td> <td> 0.000</td> <td>    0.804</td> <td>    1.309</td>\n",
       "</tr>\n",
       "<tr>\n",
       "  <th>male</th>   <td>   -1.4571</td> <td>    0.106</td> <td>  -13.701</td> <td> 0.000</td> <td>   -1.666</td> <td>   -1.249</td>\n",
       "</tr>\n",
       "</table>"
      ],
      "text/plain": [
       "<class 'statsmodels.iolib.summary.Summary'>\n",
       "\"\"\"\n",
       "                           Logit Regression Results                           \n",
       "==============================================================================\n",
       "Dep. Variable:               Survived   No. Observations:                  891\n",
       "Model:                          Logit   Df Residuals:                      889\n",
       "Method:                           MLE   Df Model:                            1\n",
       "Date:                Sat, 24 Mar 2018   Pseudo R-squ.:                  0.2266\n",
       "Time:                        13:36:16   Log-Likelihood:                -458.90\n",
       "converged:                       True   LL-Null:                       -593.33\n",
       "                                        LLR p-value:                 2.020e-60\n",
       "==============================================================================\n",
       "                 coef    std err          z      P>|z|      [0.025      0.975]\n",
       "------------------------------------------------------------------------------\n",
       "female         1.0566      0.129      8.191      0.000       0.804       1.309\n",
       "male          -1.4571      0.106    -13.701      0.000      -1.666      -1.249\n",
       "==============================================================================\n",
       "\"\"\""
      ]
     },
     "execution_count": 146,
     "metadata": {},
     "output_type": "execute_result"
    }
   ],
   "source": [
    "sexX = pd.get_dummies(trainDF.Sex)\n",
    "model = sm.Logit(trainY,sexX).fit()\n",
    "model.summary()"
   ]
  },
  {
   "cell_type": "markdown",
   "metadata": {},
   "source": [
    "### Pclass: very significant for 1st and 3rd class"
   ]
  },
  {
   "cell_type": "code",
   "execution_count": 142,
   "metadata": {},
   "outputs": [],
   "source": [
    "pclassX = trainX[['class_1','class_2','class_3']]"
   ]
  },
  {
   "cell_type": "code",
   "execution_count": 144,
   "metadata": {},
   "outputs": [
    {
     "name": "stdout",
     "output_type": "stream",
     "text": [
      "Optimization terminated successfully.\n",
      "         Current function value: 0.607805\n",
      "         Iterations: 5\n",
      "         Function evaluations: 15\n",
      "         Gradient evaluations: 15\n"
     ]
    },
    {
     "data": {
      "text/html": [
       "<table class=\"simpletable\">\n",
       "<caption>Logit Regression Results</caption>\n",
       "<tr>\n",
       "  <th>Dep. Variable:</th>     <td>Survived</td>     <th>  No. Observations:  </th>  <td>   891</td>  \n",
       "</tr>\n",
       "<tr>\n",
       "  <th>Model:</th>               <td>Logit</td>      <th>  Df Residuals:      </th>  <td>   888</td>  \n",
       "</tr>\n",
       "<tr>\n",
       "  <th>Method:</th>               <td>MLE</td>       <th>  Df Model:          </th>  <td>     2</td>  \n",
       "</tr>\n",
       "<tr>\n",
       "  <th>Date:</th>          <td>Sat, 24 Mar 2018</td> <th>  Pseudo R-squ.:     </th>  <td>0.08726</td> \n",
       "</tr>\n",
       "<tr>\n",
       "  <th>Time:</th>              <td>13:35:52</td>     <th>  Log-Likelihood:    </th> <td> -541.55</td> \n",
       "</tr>\n",
       "<tr>\n",
       "  <th>converged:</th>           <td>True</td>       <th>  LL-Null:           </th> <td> -593.33</td> \n",
       "</tr>\n",
       "<tr>\n",
       "  <th> </th>                      <td> </td>        <th>  LLR p-value:       </th> <td>3.274e-23</td>\n",
       "</tr>\n",
       "</table>\n",
       "<table class=\"simpletable\">\n",
       "<tr>\n",
       "     <td></td>        <th>coef</th>     <th>std err</th>      <th>z</th>      <th>P>|z|</th>  <th>[0.025</th>    <th>0.975]</th>  \n",
       "</tr>\n",
       "<tr>\n",
       "  <th>class_1</th> <td>    0.5306</td> <td>    0.141</td> <td>    3.766</td> <td> 0.000</td> <td>    0.254</td> <td>    0.807</td>\n",
       "</tr>\n",
       "<tr>\n",
       "  <th>class_2</th> <td>   -0.1088</td> <td>    0.148</td> <td>   -0.737</td> <td> 0.461</td> <td>   -0.398</td> <td>    0.181</td>\n",
       "</tr>\n",
       "<tr>\n",
       "  <th>class_3</th> <td>   -1.1398</td> <td>    0.105</td> <td>  -10.822</td> <td> 0.000</td> <td>   -1.346</td> <td>   -0.933</td>\n",
       "</tr>\n",
       "</table>"
      ],
      "text/plain": [
       "<class 'statsmodels.iolib.summary.Summary'>\n",
       "\"\"\"\n",
       "                           Logit Regression Results                           \n",
       "==============================================================================\n",
       "Dep. Variable:               Survived   No. Observations:                  891\n",
       "Model:                          Logit   Df Residuals:                      888\n",
       "Method:                           MLE   Df Model:                            2\n",
       "Date:                Sat, 24 Mar 2018   Pseudo R-squ.:                 0.08726\n",
       "Time:                        13:35:52   Log-Likelihood:                -541.55\n",
       "converged:                       True   LL-Null:                       -593.33\n",
       "                                        LLR p-value:                 3.274e-23\n",
       "==============================================================================\n",
       "                 coef    std err          z      P>|z|      [0.025      0.975]\n",
       "------------------------------------------------------------------------------\n",
       "class_1        0.5306      0.141      3.766      0.000       0.254       0.807\n",
       "class_2       -0.1088      0.148     -0.737      0.461      -0.398       0.181\n",
       "class_3       -1.1398      0.105    -10.822      0.000      -1.346      -0.933\n",
       "==============================================================================\n",
       "\"\"\""
      ]
     },
     "execution_count": 144,
     "metadata": {},
     "output_type": "execute_result"
    }
   ],
   "source": [
    "model = sm.Logit(trainY,pclassX)\n",
    "model = model.fit(method='cg')\n",
    "model.summary()"
   ]
  },
  {
   "cell_type": "markdown",
   "metadata": {},
   "source": [
    "### Fare: correlated with pclass, so also very significant"
   ]
  },
  {
   "cell_type": "code",
   "execution_count": 64,
   "metadata": {},
   "outputs": [
    {
     "name": "stdout",
     "output_type": "stream",
     "text": [
      "Optimization terminated successfully.\n",
      "         Current function value: 0.627143\n",
      "         Iterations 6\n"
     ]
    },
    {
     "data": {
      "text/html": [
       "<table class=\"simpletable\">\n",
       "<caption>Logit Regression Results</caption>\n",
       "<tr>\n",
       "  <th>Dep. Variable:</th>     <td>Survived</td>     <th>  No. Observations:  </th>  <td>   891</td>  \n",
       "</tr>\n",
       "<tr>\n",
       "  <th>Model:</th>               <td>Logit</td>      <th>  Df Residuals:      </th>  <td>   889</td>  \n",
       "</tr>\n",
       "<tr>\n",
       "  <th>Method:</th>               <td>MLE</td>       <th>  Df Model:          </th>  <td>     1</td>  \n",
       "</tr>\n",
       "<tr>\n",
       "  <th>Date:</th>          <td>Sat, 24 Mar 2018</td> <th>  Pseudo R-squ.:     </th>  <td>0.05822</td> \n",
       "</tr>\n",
       "<tr>\n",
       "  <th>Time:</th>              <td>12:56:32</td>     <th>  Log-Likelihood:    </th> <td> -558.78</td> \n",
       "</tr>\n",
       "<tr>\n",
       "  <th>converged:</th>           <td>True</td>       <th>  LL-Null:           </th> <td> -593.33</td> \n",
       "</tr>\n",
       "<tr>\n",
       "  <th> </th>                      <td> </td>        <th>  LLR p-value:       </th> <td>9.427e-17</td>\n",
       "</tr>\n",
       "</table>\n",
       "<table class=\"simpletable\">\n",
       "<tr>\n",
       "    <td></td>       <th>coef</th>     <th>std err</th>      <th>z</th>      <th>P>|z|</th>  <th>[0.025</th>    <th>0.975]</th>  \n",
       "</tr>\n",
       "<tr>\n",
       "  <th>const</th> <td>   -0.9413</td> <td>    0.095</td> <td>   -9.895</td> <td> 0.000</td> <td>   -1.128</td> <td>   -0.755</td>\n",
       "</tr>\n",
       "<tr>\n",
       "  <th>Fare</th>  <td>    0.0152</td> <td>    0.002</td> <td>    6.809</td> <td> 0.000</td> <td>    0.011</td> <td>    0.020</td>\n",
       "</tr>\n",
       "</table>"
      ],
      "text/plain": [
       "<class 'statsmodels.iolib.summary.Summary'>\n",
       "\"\"\"\n",
       "                           Logit Regression Results                           \n",
       "==============================================================================\n",
       "Dep. Variable:               Survived   No. Observations:                  891\n",
       "Model:                          Logit   Df Residuals:                      889\n",
       "Method:                           MLE   Df Model:                            1\n",
       "Date:                Sat, 24 Mar 2018   Pseudo R-squ.:                 0.05822\n",
       "Time:                        12:56:32   Log-Likelihood:                -558.78\n",
       "converged:                       True   LL-Null:                       -593.33\n",
       "                                        LLR p-value:                 9.427e-17\n",
       "==============================================================================\n",
       "                 coef    std err          z      P>|z|      [0.025      0.975]\n",
       "------------------------------------------------------------------------------\n",
       "const         -0.9413      0.095     -9.895      0.000      -1.128      -0.755\n",
       "Fare           0.0152      0.002      6.809      0.000       0.011       0.020\n",
       "==============================================================================\n",
       "\"\"\""
      ]
     },
     "execution_count": 64,
     "metadata": {},
     "output_type": "execute_result"
    }
   ],
   "source": [
    "fareX = sm.add_constant(trainX.Fare)\n",
    "model = sm.Logit(trainY,fareX)\n",
    "model = model.fit()\n",
    "model.summary()"
   ]
  },
  {
   "cell_type": "markdown",
   "metadata": {},
   "source": [
    "### Age & HasAge: Significant"
   ]
  },
  {
   "cell_type": "code",
   "execution_count": 65,
   "metadata": {},
   "outputs": [
    {
     "name": "stdout",
     "output_type": "stream",
     "text": [
      "Optimization terminated successfully.\n",
      "         Current function value: 0.659134\n",
      "         Iterations 5\n"
     ]
    },
    {
     "data": {
      "text/html": [
       "<table class=\"simpletable\">\n",
       "<caption>Logit Regression Results</caption>\n",
       "<tr>\n",
       "  <th>Dep. Variable:</th>     <td>Survived</td>     <th>  No. Observations:  </th>  <td>   891</td> \n",
       "</tr>\n",
       "<tr>\n",
       "  <th>Model:</th>               <td>Logit</td>      <th>  Df Residuals:      </th>  <td>   888</td> \n",
       "</tr>\n",
       "<tr>\n",
       "  <th>Method:</th>               <td>MLE</td>       <th>  Df Model:          </th>  <td>     2</td> \n",
       "</tr>\n",
       "<tr>\n",
       "  <th>Date:</th>          <td>Sat, 24 Mar 2018</td> <th>  Pseudo R-squ.:     </th>  <td>0.01018</td>\n",
       "</tr>\n",
       "<tr>\n",
       "  <th>Time:</th>              <td>12:56:33</td>     <th>  Log-Likelihood:    </th> <td> -587.29</td>\n",
       "</tr>\n",
       "<tr>\n",
       "  <th>converged:</th>           <td>True</td>       <th>  LL-Null:           </th> <td> -593.33</td>\n",
       "</tr>\n",
       "<tr>\n",
       "  <th> </th>                      <td> </td>        <th>  LLR p-value:       </th> <td>0.002385</td>\n",
       "</tr>\n",
       "</table>\n",
       "<table class=\"simpletable\">\n",
       "<tr>\n",
       "     <td></td>       <th>coef</th>     <th>std err</th>      <th>z</th>      <th>P>|z|</th>  <th>[0.025</th>    <th>0.975]</th>  \n",
       "</tr>\n",
       "<tr>\n",
       "  <th>const</th>  <td>   -0.8771</td> <td>    0.165</td> <td>   -5.315</td> <td> 0.000</td> <td>   -1.200</td> <td>   -0.554</td>\n",
       "</tr>\n",
       "<tr>\n",
       "  <th>Age</th>    <td>   -0.0110</td> <td>    0.005</td> <td>   -2.057</td> <td> 0.040</td> <td>   -0.021</td> <td>   -0.001</td>\n",
       "</tr>\n",
       "<tr>\n",
       "  <th>HasAge</th> <td>    0.8203</td> <td>    0.240</td> <td>    3.425</td> <td> 0.001</td> <td>    0.351</td> <td>    1.290</td>\n",
       "</tr>\n",
       "</table>"
      ],
      "text/plain": [
       "<class 'statsmodels.iolib.summary.Summary'>\n",
       "\"\"\"\n",
       "                           Logit Regression Results                           \n",
       "==============================================================================\n",
       "Dep. Variable:               Survived   No. Observations:                  891\n",
       "Model:                          Logit   Df Residuals:                      888\n",
       "Method:                           MLE   Df Model:                            2\n",
       "Date:                Sat, 24 Mar 2018   Pseudo R-squ.:                 0.01018\n",
       "Time:                        12:56:33   Log-Likelihood:                -587.29\n",
       "converged:                       True   LL-Null:                       -593.33\n",
       "                                        LLR p-value:                  0.002385\n",
       "==============================================================================\n",
       "                 coef    std err          z      P>|z|      [0.025      0.975]\n",
       "------------------------------------------------------------------------------\n",
       "const         -0.8771      0.165     -5.315      0.000      -1.200      -0.554\n",
       "Age           -0.0110      0.005     -2.057      0.040      -0.021      -0.001\n",
       "HasAge         0.8203      0.240      3.425      0.001       0.351       1.290\n",
       "==============================================================================\n",
       "\"\"\""
      ]
     },
     "execution_count": 65,
     "metadata": {},
     "output_type": "execute_result"
    }
   ],
   "source": [
    "ageX = trainX[['Age','HasAge']]\n",
    "model = sm.Logit(trainY,sm.add_constant(ageX))\n",
    "model = model.fit()\n",
    "model.summary()"
   ]
  },
  {
   "cell_type": "markdown",
   "metadata": {},
   "source": [
    "### Deck"
   ]
  },
  {
   "cell_type": "code",
   "execution_count": 170,
   "metadata": {},
   "outputs": [
    {
     "name": "stdout",
     "output_type": "stream",
     "text": [
      "Optimization terminated successfully.\n",
      "         Current function value: 0.610797\n",
      "         Iterations: 7\n",
      "         Function evaluations: 8\n",
      "         Gradient evaluations: 14\n",
      "         Hessian evaluations: 7\n"
     ]
    },
    {
     "data": {
      "text/html": [
       "<table class=\"simpletable\">\n",
       "<caption>Logit Regression Results</caption>\n",
       "<tr>\n",
       "  <th>Dep. Variable:</th>     <td>Survived</td>     <th>  No. Observations:  </th>  <td>   891</td>  \n",
       "</tr>\n",
       "<tr>\n",
       "  <th>Model:</th>               <td>Logit</td>      <th>  Df Residuals:      </th>  <td>   882</td>  \n",
       "</tr>\n",
       "<tr>\n",
       "  <th>Method:</th>               <td>MLE</td>       <th>  Df Model:          </th>  <td>     8</td>  \n",
       "</tr>\n",
       "<tr>\n",
       "  <th>Date:</th>          <td>Sat, 24 Mar 2018</td> <th>  Pseudo R-squ.:     </th>  <td>0.08277</td> \n",
       "</tr>\n",
       "<tr>\n",
       "  <th>Time:</th>              <td>14:39:32</td>     <th>  Log-Likelihood:    </th> <td> -544.22</td> \n",
       "</tr>\n",
       "<tr>\n",
       "  <th>converged:</th>           <td>True</td>       <th>  LL-Null:           </th> <td> -593.33</td> \n",
       "</tr>\n",
       "<tr>\n",
       "  <th> </th>                      <td> </td>        <th>  LLR p-value:       </th> <td>9.882e-18</td>\n",
       "</tr>\n",
       "</table>\n",
       "<table class=\"simpletable\">\n",
       "<tr>\n",
       "  <td></td>     <th>coef</th>     <th>std err</th>      <th>z</th>      <th>P>|z|</th>  <th>[0.025</th>    <th>0.975]</th>  \n",
       "</tr>\n",
       "<tr>\n",
       "  <th>A</th> <td>   -0.1335</td> <td>    0.518</td> <td>   -0.258</td> <td> 0.796</td> <td>   -1.148</td> <td>    0.881</td>\n",
       "</tr>\n",
       "<tr>\n",
       "  <th>B</th> <td>    1.0704</td> <td>    0.335</td> <td>    3.200</td> <td> 0.001</td> <td>    0.415</td> <td>    1.726</td>\n",
       "</tr>\n",
       "<tr>\n",
       "  <th>C</th> <td>    0.3773</td> <td>    0.265</td> <td>    1.424</td> <td> 0.155</td> <td>   -0.142</td> <td>    0.897</td>\n",
       "</tr>\n",
       "<tr>\n",
       "  <th>D</th> <td>    1.1394</td> <td>    0.406</td> <td>    2.805</td> <td> 0.005</td> <td>    0.343</td> <td>    1.936</td>\n",
       "</tr>\n",
       "<tr>\n",
       "  <th>E</th> <td>    1.0986</td> <td>    0.408</td> <td>    2.691</td> <td> 0.007</td> <td>    0.298</td> <td>    1.899</td>\n",
       "</tr>\n",
       "<tr>\n",
       "  <th>F</th> <td>    0.4700</td> <td>    0.570</td> <td>    0.824</td> <td> 0.410</td> <td>   -0.647</td> <td>    1.587</td>\n",
       "</tr>\n",
       "<tr>\n",
       "  <th>G</th> <td>         0</td> <td>    1.000</td> <td>        0</td> <td> 1.000</td> <td>   -1.960</td> <td>    1.960</td>\n",
       "</tr>\n",
       "<tr>\n",
       "  <th>N</th> <td>   -0.8480</td> <td>    0.083</td> <td>  -10.184</td> <td> 0.000</td> <td>   -1.011</td> <td>   -0.685</td>\n",
       "</tr>\n",
       "<tr>\n",
       "  <th>T</th> <td>   -5.1954</td> <td>   13.508</td> <td>   -0.385</td> <td> 0.701</td> <td>  -31.670</td> <td>   21.279</td>\n",
       "</tr>\n",
       "</table>"
      ],
      "text/plain": [
       "<class 'statsmodels.iolib.summary.Summary'>\n",
       "\"\"\"\n",
       "                           Logit Regression Results                           \n",
       "==============================================================================\n",
       "Dep. Variable:               Survived   No. Observations:                  891\n",
       "Model:                          Logit   Df Residuals:                      882\n",
       "Method:                           MLE   Df Model:                            8\n",
       "Date:                Sat, 24 Mar 2018   Pseudo R-squ.:                 0.08277\n",
       "Time:                        14:39:32   Log-Likelihood:                -544.22\n",
       "converged:                       True   LL-Null:                       -593.33\n",
       "                                        LLR p-value:                 9.882e-18\n",
       "==============================================================================\n",
       "                 coef    std err          z      P>|z|      [0.025      0.975]\n",
       "------------------------------------------------------------------------------\n",
       "A             -0.1335      0.518     -0.258      0.796      -1.148       0.881\n",
       "B              1.0704      0.335      3.200      0.001       0.415       1.726\n",
       "C              0.3773      0.265      1.424      0.155      -0.142       0.897\n",
       "D              1.1394      0.406      2.805      0.005       0.343       1.936\n",
       "E              1.0986      0.408      2.691      0.007       0.298       1.899\n",
       "F              0.4700      0.570      0.824      0.410      -0.647       1.587\n",
       "G                   0      1.000          0      1.000      -1.960       1.960\n",
       "N             -0.8480      0.083    -10.184      0.000      -1.011      -0.685\n",
       "T             -5.1954     13.508     -0.385      0.701     -31.670      21.279\n",
       "==============================================================================\n",
       "\"\"\""
      ]
     },
     "execution_count": 170,
     "metadata": {},
     "output_type": "execute_result"
    }
   ],
   "source": [
    "deckX = pd.get_dummies(trainDF['CabinDeck'])\n",
    "model = sm.Logit(trainY,deckX)\n",
    "model = model.fit(method='ncg')\n",
    "model.summary()"
   ]
  },
  {
   "cell_type": "code",
   "execution_count": 171,
   "metadata": {},
   "outputs": [
    {
     "data": {
      "text/html": [
       "<div>\n",
       "<style>\n",
       "    .dataframe thead tr:only-child th {\n",
       "        text-align: right;\n",
       "    }\n",
       "\n",
       "    .dataframe thead th {\n",
       "        text-align: left;\n",
       "    }\n",
       "\n",
       "    .dataframe tbody tr th {\n",
       "        vertical-align: top;\n",
       "    }\n",
       "</style>\n",
       "<table border=\"1\" class=\"dataframe\">\n",
       "  <thead>\n",
       "    <tr style=\"text-align: right;\">\n",
       "      <th></th>\n",
       "      <th>A</th>\n",
       "      <th>B</th>\n",
       "      <th>C</th>\n",
       "      <th>D</th>\n",
       "      <th>E</th>\n",
       "      <th>F</th>\n",
       "      <th>G</th>\n",
       "      <th>N</th>\n",
       "      <th>T</th>\n",
       "      <th>Fare</th>\n",
       "    </tr>\n",
       "  </thead>\n",
       "  <tbody>\n",
       "    <tr>\n",
       "      <th>A</th>\n",
       "      <td>1.000000</td>\n",
       "      <td>-0.030880</td>\n",
       "      <td>-0.034846</td>\n",
       "      <td>-0.025663</td>\n",
       "      <td>-0.025256</td>\n",
       "      <td>-0.015923</td>\n",
       "      <td>-0.008787</td>\n",
       "      <td>-0.240136</td>\n",
       "      <td>-0.004386</td>\n",
       "      <td>0.019549</td>\n",
       "    </tr>\n",
       "    <tr>\n",
       "      <th>B</th>\n",
       "      <td>-0.030880</td>\n",
       "      <td>1.000000</td>\n",
       "      <td>-0.062841</td>\n",
       "      <td>-0.046280</td>\n",
       "      <td>-0.045547</td>\n",
       "      <td>-0.028715</td>\n",
       "      <td>-0.015847</td>\n",
       "      <td>-0.433053</td>\n",
       "      <td>-0.007910</td>\n",
       "      <td>0.386297</td>\n",
       "    </tr>\n",
       "    <tr>\n",
       "      <th>C</th>\n",
       "      <td>-0.034846</td>\n",
       "      <td>-0.062841</td>\n",
       "      <td>1.000000</td>\n",
       "      <td>-0.052225</td>\n",
       "      <td>-0.051398</td>\n",
       "      <td>-0.032403</td>\n",
       "      <td>-0.017883</td>\n",
       "      <td>-0.488683</td>\n",
       "      <td>-0.008926</td>\n",
       "      <td>0.364318</td>\n",
       "    </tr>\n",
       "    <tr>\n",
       "      <th>D</th>\n",
       "      <td>-0.025663</td>\n",
       "      <td>-0.046280</td>\n",
       "      <td>-0.052225</td>\n",
       "      <td>1.000000</td>\n",
       "      <td>-0.037852</td>\n",
       "      <td>-0.023864</td>\n",
       "      <td>-0.013170</td>\n",
       "      <td>-0.359896</td>\n",
       "      <td>-0.006574</td>\n",
       "      <td>0.098878</td>\n",
       "    </tr>\n",
       "    <tr>\n",
       "      <th>E</th>\n",
       "      <td>-0.025256</td>\n",
       "      <td>-0.045547</td>\n",
       "      <td>-0.051398</td>\n",
       "      <td>-0.037852</td>\n",
       "      <td>1.000000</td>\n",
       "      <td>-0.023486</td>\n",
       "      <td>-0.012961</td>\n",
       "      <td>-0.354194</td>\n",
       "      <td>-0.006470</td>\n",
       "      <td>0.053717</td>\n",
       "    </tr>\n",
       "    <tr>\n",
       "      <th>F</th>\n",
       "      <td>-0.015923</td>\n",
       "      <td>-0.028715</td>\n",
       "      <td>-0.032403</td>\n",
       "      <td>-0.023864</td>\n",
       "      <td>-0.023486</td>\n",
       "      <td>1.000000</td>\n",
       "      <td>-0.008171</td>\n",
       "      <td>-0.223299</td>\n",
       "      <td>-0.004079</td>\n",
       "      <td>-0.033093</td>\n",
       "    </tr>\n",
       "    <tr>\n",
       "      <th>G</th>\n",
       "      <td>-0.008787</td>\n",
       "      <td>-0.015847</td>\n",
       "      <td>-0.017883</td>\n",
       "      <td>-0.013170</td>\n",
       "      <td>-0.012961</td>\n",
       "      <td>-0.008171</td>\n",
       "      <td>1.000000</td>\n",
       "      <td>-0.123234</td>\n",
       "      <td>-0.002251</td>\n",
       "      <td>-0.025180</td>\n",
       "    </tr>\n",
       "    <tr>\n",
       "      <th>N</th>\n",
       "      <td>-0.240136</td>\n",
       "      <td>-0.433053</td>\n",
       "      <td>-0.488683</td>\n",
       "      <td>-0.359896</td>\n",
       "      <td>-0.354194</td>\n",
       "      <td>-0.223299</td>\n",
       "      <td>-0.123234</td>\n",
       "      <td>1.000000</td>\n",
       "      <td>-0.061513</td>\n",
       "      <td>-0.482075</td>\n",
       "    </tr>\n",
       "    <tr>\n",
       "      <th>T</th>\n",
       "      <td>-0.004386</td>\n",
       "      <td>-0.007910</td>\n",
       "      <td>-0.008926</td>\n",
       "      <td>-0.006574</td>\n",
       "      <td>-0.006470</td>\n",
       "      <td>-0.004079</td>\n",
       "      <td>-0.002251</td>\n",
       "      <td>-0.061513</td>\n",
       "      <td>1.000000</td>\n",
       "      <td>0.002224</td>\n",
       "    </tr>\n",
       "    <tr>\n",
       "      <th>Fare</th>\n",
       "      <td>0.019549</td>\n",
       "      <td>0.386297</td>\n",
       "      <td>0.364318</td>\n",
       "      <td>0.098878</td>\n",
       "      <td>0.053717</td>\n",
       "      <td>-0.033093</td>\n",
       "      <td>-0.025180</td>\n",
       "      <td>-0.482075</td>\n",
       "      <td>0.002224</td>\n",
       "      <td>1.000000</td>\n",
       "    </tr>\n",
       "  </tbody>\n",
       "</table>\n",
       "</div>"
      ],
      "text/plain": [
       "             A         B         C         D         E         F         G  \\\n",
       "A     1.000000 -0.030880 -0.034846 -0.025663 -0.025256 -0.015923 -0.008787   \n",
       "B    -0.030880  1.000000 -0.062841 -0.046280 -0.045547 -0.028715 -0.015847   \n",
       "C    -0.034846 -0.062841  1.000000 -0.052225 -0.051398 -0.032403 -0.017883   \n",
       "D    -0.025663 -0.046280 -0.052225  1.000000 -0.037852 -0.023864 -0.013170   \n",
       "E    -0.025256 -0.045547 -0.051398 -0.037852  1.000000 -0.023486 -0.012961   \n",
       "F    -0.015923 -0.028715 -0.032403 -0.023864 -0.023486  1.000000 -0.008171   \n",
       "G    -0.008787 -0.015847 -0.017883 -0.013170 -0.012961 -0.008171  1.000000   \n",
       "N    -0.240136 -0.433053 -0.488683 -0.359896 -0.354194 -0.223299 -0.123234   \n",
       "T    -0.004386 -0.007910 -0.008926 -0.006574 -0.006470 -0.004079 -0.002251   \n",
       "Fare  0.019549  0.386297  0.364318  0.098878  0.053717 -0.033093 -0.025180   \n",
       "\n",
       "             N         T      Fare  \n",
       "A    -0.240136 -0.004386  0.019549  \n",
       "B    -0.433053 -0.007910  0.386297  \n",
       "C    -0.488683 -0.008926  0.364318  \n",
       "D    -0.359896 -0.006574  0.098878  \n",
       "E    -0.354194 -0.006470  0.053717  \n",
       "F    -0.223299 -0.004079 -0.033093  \n",
       "G    -0.123234 -0.002251 -0.025180  \n",
       "N     1.000000 -0.061513 -0.482075  \n",
       "T    -0.061513  1.000000  0.002224  \n",
       "Fare -0.482075  0.002224  1.000000  "
      ]
     },
     "execution_count": 171,
     "metadata": {},
     "output_type": "execute_result"
    }
   ],
   "source": [
    "deckX.join(trainX.Fare).corr()"
   ]
  },
  {
   "cell_type": "markdown",
   "metadata": {},
   "source": [
    "### Alternate model: Distinguish between has a cabin or not"
   ]
  },
  {
   "cell_type": "code",
   "execution_count": 151,
   "metadata": {},
   "outputs": [
    {
     "name": "stdout",
     "output_type": "stream",
     "text": [
      "Optimization terminated successfully.\n",
      "         Current function value: 0.629608\n",
      "         Iterations 5\n"
     ]
    },
    {
     "data": {
      "text/html": [
       "<table class=\"simpletable\">\n",
       "<caption>Logit Regression Results</caption>\n",
       "<tr>\n",
       "  <th>Dep. Variable:</th>     <td>Survived</td>     <th>  No. Observations:  </th>  <td>   891</td> \n",
       "</tr>\n",
       "<tr>\n",
       "  <th>Model:</th>               <td>Logit</td>      <th>  Df Residuals:      </th>  <td>   890</td> \n",
       "</tr>\n",
       "<tr>\n",
       "  <th>Method:</th>               <td>MLE</td>       <th>  Df Model:          </th>  <td>     0</td> \n",
       "</tr>\n",
       "<tr>\n",
       "  <th>Date:</th>          <td>Sat, 24 Mar 2018</td> <th>  Pseudo R-squ.:     </th>  <td>0.05452</td>\n",
       "</tr>\n",
       "<tr>\n",
       "  <th>Time:</th>              <td>13:38:06</td>     <th>  Log-Likelihood:    </th> <td> -560.98</td>\n",
       "</tr>\n",
       "<tr>\n",
       "  <th>converged:</th>           <td>True</td>       <th>  LL-Null:           </th> <td> -593.33</td>\n",
       "</tr>\n",
       "<tr>\n",
       "  <th> </th>                      <td> </td>        <th>  LLR p-value:       </th>  <td>   nan</td> \n",
       "</tr>\n",
       "</table>\n",
       "<table class=\"simpletable\">\n",
       "<tr>\n",
       "     <td></td>       <th>coef</th>     <th>std err</th>      <th>z</th>      <th>P>|z|</th>  <th>[0.025</th>    <th>0.975]</th>  \n",
       "</tr>\n",
       "<tr>\n",
       "  <th>deck_N</th> <td>   -0.8480</td> <td>    0.083</td> <td>  -10.184</td> <td> 0.000</td> <td>   -1.011</td> <td>   -0.685</td>\n",
       "</tr>\n",
       "</table>"
      ],
      "text/plain": [
       "<class 'statsmodels.iolib.summary.Summary'>\n",
       "\"\"\"\n",
       "                           Logit Regression Results                           \n",
       "==============================================================================\n",
       "Dep. Variable:               Survived   No. Observations:                  891\n",
       "Model:                          Logit   Df Residuals:                      890\n",
       "Method:                           MLE   Df Model:                            0\n",
       "Date:                Sat, 24 Mar 2018   Pseudo R-squ.:                 0.05452\n",
       "Time:                        13:38:06   Log-Likelihood:                -560.98\n",
       "converged:                       True   LL-Null:                       -593.33\n",
       "                                        LLR p-value:                       nan\n",
       "==============================================================================\n",
       "                 coef    std err          z      P>|z|      [0.025      0.975]\n",
       "------------------------------------------------------------------------------\n",
       "deck_N        -0.8480      0.083    -10.184      0.000      -1.011      -0.685\n",
       "==============================================================================\n",
       "\"\"\""
      ]
     },
     "execution_count": 151,
     "metadata": {},
     "output_type": "execute_result"
    }
   ],
   "source": [
    "hasCabinX = trainX[['deck_N']]\n",
    "model = sm.Logit(trainY,hasCabinX).fit()\n",
    "model.summary()"
   ]
  },
  {
   "cell_type": "markdown",
   "metadata": {},
   "source": [
    "### Nonzero siblings/spouses"
   ]
  },
  {
   "cell_type": "code",
   "execution_count": 153,
   "metadata": {},
   "outputs": [
    {
     "name": "stdout",
     "output_type": "stream",
     "text": [
      "Optimization terminated successfully.\n",
      "         Current function value: 0.659268\n",
      "         Iterations 4\n"
     ]
    },
    {
     "data": {
      "text/html": [
       "<table class=\"simpletable\">\n",
       "<caption>Logit Regression Results</caption>\n",
       "<tr>\n",
       "  <th>Dep. Variable:</th>     <td>Survived</td>     <th>  No. Observations:  </th>  <td>   891</td>  \n",
       "</tr>\n",
       "<tr>\n",
       "  <th>Model:</th>               <td>Logit</td>      <th>  Df Residuals:      </th>  <td>   889</td>  \n",
       "</tr>\n",
       "<tr>\n",
       "  <th>Method:</th>               <td>MLE</td>       <th>  Df Model:          </th>  <td>     1</td>  \n",
       "</tr>\n",
       "<tr>\n",
       "  <th>Date:</th>          <td>Sat, 24 Mar 2018</td> <th>  Pseudo R-squ.:     </th> <td>0.009977</td> \n",
       "</tr>\n",
       "<tr>\n",
       "  <th>Time:</th>              <td>13:41:49</td>     <th>  Log-Likelihood:    </th> <td> -587.41</td> \n",
       "</tr>\n",
       "<tr>\n",
       "  <th>converged:</th>           <td>True</td>       <th>  LL-Null:           </th> <td> -593.33</td> \n",
       "</tr>\n",
       "<tr>\n",
       "  <th> </th>                      <td> </td>        <th>  LLR p-value:       </th> <td>0.0005801</td>\n",
       "</tr>\n",
       "</table>\n",
       "<table class=\"simpletable\">\n",
       "<tr>\n",
       "     <td></td>       <th>coef</th>     <th>std err</th>      <th>z</th>      <th>P>|z|</th>  <th>[0.025</th>    <th>0.975]</th>  \n",
       "</tr>\n",
       "<tr>\n",
       "  <th>SibSp0</th> <td>   -0.6393</td> <td>    0.085</td> <td>   -7.496</td> <td> 0.000</td> <td>   -0.807</td> <td>   -0.472</td>\n",
       "</tr>\n",
       "<tr>\n",
       "  <th>SibSp</th>  <td>   -0.1345</td> <td>    0.119</td> <td>   -1.129</td> <td> 0.259</td> <td>   -0.368</td> <td>    0.099</td>\n",
       "</tr>\n",
       "</table>"
      ],
      "text/plain": [
       "<class 'statsmodels.iolib.summary.Summary'>\n",
       "\"\"\"\n",
       "                           Logit Regression Results                           \n",
       "==============================================================================\n",
       "Dep. Variable:               Survived   No. Observations:                  891\n",
       "Model:                          Logit   Df Residuals:                      889\n",
       "Method:                           MLE   Df Model:                            1\n",
       "Date:                Sat, 24 Mar 2018   Pseudo R-squ.:                0.009977\n",
       "Time:                        13:41:49   Log-Likelihood:                -587.41\n",
       "converged:                       True   LL-Null:                       -593.33\n",
       "                                        LLR p-value:                 0.0005801\n",
       "==============================================================================\n",
       "                 coef    std err          z      P>|z|      [0.025      0.975]\n",
       "------------------------------------------------------------------------------\n",
       "SibSp0        -0.6393      0.085     -7.496      0.000      -0.807      -0.472\n",
       "SibSp         -0.1345      0.119     -1.129      0.259      -0.368       0.099\n",
       "==============================================================================\n",
       "\"\"\""
      ]
     },
     "execution_count": 153,
     "metadata": {},
     "output_type": "execute_result"
    }
   ],
   "source": [
    "sibsp0X = trainDF.SibSp.apply(lambda y: 0 if y>0 else 1)\n",
    "sibsp0X.name = 'SibSp0'\n",
    "sibsp0X = pd.concat([sibsp0X,trainDF.SibSp.apply(lambda y: 1 if y>0 else 0)],axis=1)\n",
    "model = sm.Logit(trainY,sibsp0X)\n",
    "model = model.fit(method='newton')\n",
    "model.summary()"
   ]
  },
  {
   "cell_type": "markdown",
   "metadata": {},
   "source": [
    "### Nonzero parents or children"
   ]
  },
  {
   "cell_type": "code",
   "execution_count": 152,
   "metadata": {},
   "outputs": [
    {
     "name": "stdout",
     "output_type": "stream",
     "text": [
      "Optimization terminated successfully.\n",
      "         Current function value: 0.655251\n",
      "         Iterations 4\n"
     ]
    },
    {
     "data": {
      "text/html": [
       "<table class=\"simpletable\">\n",
       "<caption>Logit Regression Results</caption>\n",
       "<tr>\n",
       "  <th>Dep. Variable:</th>     <td>Survived</td>     <th>  No. Observations:  </th>  <td>   891</td>  \n",
       "</tr>\n",
       "<tr>\n",
       "  <th>Model:</th>               <td>Logit</td>      <th>  Df Residuals:      </th>  <td>   889</td>  \n",
       "</tr>\n",
       "<tr>\n",
       "  <th>Method:</th>               <td>MLE</td>       <th>  Df Model:          </th>  <td>     1</td>  \n",
       "</tr>\n",
       "<tr>\n",
       "  <th>Date:</th>          <td>Sat, 24 Mar 2018</td> <th>  Pseudo R-squ.:     </th>  <td>0.01601</td> \n",
       "</tr>\n",
       "<tr>\n",
       "  <th>Time:</th>              <td>13:41:39</td>     <th>  Log-Likelihood:    </th> <td> -583.83</td> \n",
       "</tr>\n",
       "<tr>\n",
       "  <th>converged:</th>           <td>True</td>       <th>  LL-Null:           </th> <td> -593.33</td> \n",
       "</tr>\n",
       "<tr>\n",
       "  <th> </th>                      <td> </td>        <th>  LLR p-value:       </th> <td>1.308e-05</td>\n",
       "</tr>\n",
       "</table>\n",
       "<table class=\"simpletable\">\n",
       "<tr>\n",
       "     <td></td>       <th>coef</th>     <th>std err</th>      <th>z</th>      <th>P>|z|</th>  <th>[0.025</th>    <th>0.975]</th>  \n",
       "</tr>\n",
       "<tr>\n",
       "  <th>Parch0</th> <td>   -0.6470</td> <td>    0.081</td> <td>   -8.002</td> <td> 0.000</td> <td>   -0.806</td> <td>   -0.489</td>\n",
       "</tr>\n",
       "<tr>\n",
       "  <th>Parch</th>  <td>    0.0470</td> <td>    0.137</td> <td>    0.343</td> <td> 0.732</td> <td>   -0.222</td> <td>    0.316</td>\n",
       "</tr>\n",
       "</table>"
      ],
      "text/plain": [
       "<class 'statsmodels.iolib.summary.Summary'>\n",
       "\"\"\"\n",
       "                           Logit Regression Results                           \n",
       "==============================================================================\n",
       "Dep. Variable:               Survived   No. Observations:                  891\n",
       "Model:                          Logit   Df Residuals:                      889\n",
       "Method:                           MLE   Df Model:                            1\n",
       "Date:                Sat, 24 Mar 2018   Pseudo R-squ.:                 0.01601\n",
       "Time:                        13:41:39   Log-Likelihood:                -583.83\n",
       "converged:                       True   LL-Null:                       -593.33\n",
       "                                        LLR p-value:                 1.308e-05\n",
       "==============================================================================\n",
       "                 coef    std err          z      P>|z|      [0.025      0.975]\n",
       "------------------------------------------------------------------------------\n",
       "Parch0        -0.6470      0.081     -8.002      0.000      -0.806      -0.489\n",
       "Parch          0.0470      0.137      0.343      0.732      -0.222       0.316\n",
       "==============================================================================\n",
       "\"\"\""
      ]
     },
     "execution_count": 152,
     "metadata": {},
     "output_type": "execute_result"
    }
   ],
   "source": [
    "parch0X = trainDF.Parch.apply(lambda y: 0 if y>0 else 1)\n",
    "parch0X.name = 'Parch0'\n",
    "parch0X = pd.concat([parch0X,trainDF.Parch.apply(lambda y: 1 if y>0 else 0)],axis=1)\n",
    "#parch0X = PCA(parch0X,method='eig').factors\n",
    "model = sm.Logit(trainY,parch0X)\n",
    "model = model.fit()\n",
    "model.summary()"
   ]
  },
  {
   "cell_type": "markdown",
   "metadata": {},
   "source": [
    "### Test alternate model: Distinguish effect of parents/children, spouses/siblings between male/female"
   ]
  },
  {
   "cell_type": "code",
   "execution_count": 69,
   "metadata": {},
   "outputs": [
    {
     "name": "stdout",
     "output_type": "stream",
     "text": [
      "Optimization terminated successfully.    (Exit mode 0)\n",
      "            Current function value: 0.505195405863583\n",
      "            Iterations: 127\n",
      "            Function evaluations: 127\n",
      "            Gradient evaluations: 127\n"
     ]
    },
    {
     "data": {
      "text/html": [
       "<table class=\"simpletable\">\n",
       "<caption>Logit Regression Results</caption>\n",
       "<tr>\n",
       "  <th>Dep. Variable:</th>     <td>Survived</td>     <th>  No. Observations:  </th>  <td>   891</td>  \n",
       "</tr>\n",
       "<tr>\n",
       "  <th>Model:</th>               <td>Logit</td>      <th>  Df Residuals:      </th>  <td>   883</td>  \n",
       "</tr>\n",
       "<tr>\n",
       "  <th>Method:</th>               <td>MLE</td>       <th>  Df Model:          </th>  <td>     7</td>  \n",
       "</tr>\n",
       "<tr>\n",
       "  <th>Date:</th>          <td>Sat, 24 Mar 2018</td> <th>  Pseudo R-squ.:     </th>  <td>0.2413</td>  \n",
       "</tr>\n",
       "<tr>\n",
       "  <th>Time:</th>              <td>12:56:34</td>     <th>  Log-Likelihood:    </th> <td> -450.13</td> \n",
       "</tr>\n",
       "<tr>\n",
       "  <th>converged:</th>           <td>True</td>       <th>  LL-Null:           </th> <td> -593.33</td> \n",
       "</tr>\n",
       "<tr>\n",
       "  <th> </th>                      <td> </td>        <th>  LLR p-value:       </th> <td>4.848e-58</td>\n",
       "</tr>\n",
       "</table>\n",
       "<table class=\"simpletable\">\n",
       "<tr>\n",
       "     <td></td>       <th>coef</th>     <th>std err</th>      <th>z</th>      <th>P>|z|</th>  <th>[0.025</th>    <th>0.975]</th>  \n",
       "</tr>\n",
       "<tr>\n",
       "  <th>comp_0</th> <td> 1086.5823</td> <td> 1236.854</td> <td>    0.879</td> <td> 0.380</td> <td>-1337.607</td> <td> 3510.771</td>\n",
       "</tr>\n",
       "<tr>\n",
       "  <th>comp_1</th> <td> -607.4048</td> <td>  415.100</td> <td>   -1.463</td> <td> 0.143</td> <td>-1420.985</td> <td>  206.175</td>\n",
       "</tr>\n",
       "<tr>\n",
       "  <th>comp_2</th> <td>  904.9806</td> <td>  927.377</td> <td>    0.976</td> <td> 0.329</td> <td> -912.645</td> <td> 2722.606</td>\n",
       "</tr>\n",
       "<tr>\n",
       "  <th>comp_3</th> <td>  133.4959</td> <td> 1093.182</td> <td>    0.122</td> <td> 0.903</td> <td>-2009.102</td> <td> 2276.094</td>\n",
       "</tr>\n",
       "<tr>\n",
       "  <th>comp_4</th> <td>  443.0046</td> <td> 1482.397</td> <td>    0.299</td> <td> 0.765</td> <td>-2462.441</td> <td> 3348.450</td>\n",
       "</tr>\n",
       "<tr>\n",
       "  <th>comp_5</th> <td> 1418.4648</td> <td> 1806.378</td> <td>    0.785</td> <td> 0.432</td> <td>-2121.972</td> <td> 4958.901</td>\n",
       "</tr>\n",
       "<tr>\n",
       "  <th>comp_6</th> <td> -707.8940</td> <td> 1325.906</td> <td>   -0.534</td> <td> 0.593</td> <td>-3306.622</td> <td> 1890.834</td>\n",
       "</tr>\n",
       "<tr>\n",
       "  <th>comp_7</th> <td> -304.8062</td> <td>  442.970</td> <td>   -0.688</td> <td> 0.491</td> <td>-1173.012</td> <td>  563.400</td>\n",
       "</tr>\n",
       "</table>"
      ],
      "text/plain": [
       "<class 'statsmodels.iolib.summary.Summary'>\n",
       "\"\"\"\n",
       "                           Logit Regression Results                           \n",
       "==============================================================================\n",
       "Dep. Variable:               Survived   No. Observations:                  891\n",
       "Model:                          Logit   Df Residuals:                      883\n",
       "Method:                           MLE   Df Model:                            7\n",
       "Date:                Sat, 24 Mar 2018   Pseudo R-squ.:                  0.2413\n",
       "Time:                        12:56:34   Log-Likelihood:                -450.13\n",
       "converged:                       True   LL-Null:                       -593.33\n",
       "                                        LLR p-value:                 4.848e-58\n",
       "==============================================================================\n",
       "                 coef    std err          z      P>|z|      [0.025      0.975]\n",
       "------------------------------------------------------------------------------\n",
       "comp_0      1086.5823   1236.854      0.879      0.380   -1337.607    3510.771\n",
       "comp_1      -607.4048    415.100     -1.463      0.143   -1420.985     206.175\n",
       "comp_2       904.9806    927.377      0.976      0.329    -912.645    2722.606\n",
       "comp_3       133.4959   1093.182      0.122      0.903   -2009.102    2276.094\n",
       "comp_4       443.0046   1482.397      0.299      0.765   -2462.441    3348.450\n",
       "comp_5      1418.4648   1806.378      0.785      0.432   -2121.972    4958.901\n",
       "comp_6      -707.8940   1325.906     -0.534      0.593   -3306.622    1890.834\n",
       "comp_7      -304.8062    442.970     -0.688      0.491   -1173.012     563.400\n",
       "==============================================================================\n",
       "\"\"\""
      ]
     },
     "execution_count": 69,
     "metadata": {},
     "output_type": "execute_result"
    }
   ],
   "source": [
    "spX = trainDF[['parchMale0','parchMale','sibspMale0','sibspMale','parchFemale0','parchFemale','sibspFemale0','sibspFemale']]\n",
    "spX = PCA(spX).factors\n",
    "model = sm.Logit(trainY,spX)\n",
    "model = model.fit_regularized()\n",
    "model.summary()"
   ]
  },
  {
   "cell_type": "code",
   "execution_count": 70,
   "metadata": {
    "collapsed": true
   },
   "outputs": [],
   "source": [
    "sexX=pd.get_dummies(trainDF.Sex)\n",
    "X=spX.join(deckX).join(ageX).join(pclassX).join(fareX).join(embarkX)\n",
    "#X=spX.join(trainDF.deckX).join(trainX.N).join(ageX).join(pclassX).join(fareX).join(embarkX)"
   ]
  },
  {
   "cell_type": "code",
   "execution_count": 71,
   "metadata": {},
   "outputs": [
    {
     "name": "stdout",
     "output_type": "stream",
     "text": [
      "0.803482587065 +/- 0.00879486046252\n"
     ]
    }
   ],
   "source": [
    "cv = ShuffleSplit(n_splits=3, test_size=0.3, random_state=314159)\n",
    "cvs=cross_val_score(logreg,X,trainY,cv=cv)\n",
    "print(cvs.mean(),\"+/-\",cvs.std())"
   ]
  },
  {
   "cell_type": "code",
   "execution_count": 72,
   "metadata": {},
   "outputs": [
    {
     "data": {
      "text/plain": [
       "0.81818181818181823"
      ]
     },
     "execution_count": 72,
     "metadata": {},
     "output_type": "execute_result"
    }
   ],
   "source": [
    "logreg.fit(X,trainY)\n",
    "logreg.score(X,trainY)"
   ]
  },
  {
   "cell_type": "code",
   "execution_count": 73,
   "metadata": {},
   "outputs": [],
   "source": [
    "df=massageData(pd.read_csv('train.csv',index_col=0))"
   ]
  },
  {
   "cell_type": "code",
   "execution_count": 74,
   "metadata": {},
   "outputs": [
    {
     "name": "stdout",
     "output_type": "stream",
     "text": [
      "0.165289256198   484\n",
      "0.311827956989   93\n",
      "0.168202764977   434\n",
      "0.251748251748   143\n",
      "0.788659793814   194\n",
      "0.666666666667   120\n",
      "0.787356321839   174\n",
      "0.685714285714   140\n"
     ]
    }
   ],
   "source": [
    "print(sum(df[df.parchMale0==1].Survived)/sum(df.parchMale0),\" \",sum(df.parchMale0))\n",
    "print(sum(df[df.parchMale==1].Survived)/sum(df.parchMale), \" \" , sum(df.parchMale))\n",
    "print(sum(df[df.sibspMale0==1].Survived)/sum(df.sibspMale0), \" \" , sum(df.sibspMale0))\n",
    "print(sum(df[df.sibspMale==1].Survived)/sum(df.sibspMale), \" \" , sum(df.sibspMale))\n",
    "print(sum(df[df.parchFemale0==1].Survived)/sum(df.parchFemale0), \" \" , sum(df.parchFemale0))\n",
    "print(sum(df[df.parchFemale==1].Survived)/sum(df.parchFemale), \" \" , sum(df.parchFemale))\n",
    "print(sum(df[df.sibspFemale0==1].Survived)/sum(df.sibspFemale0), \" \" , sum(df.sibspFemale0))\n",
    "print(sum(df[df.sibspFemale==1].Survived)/sum(df.sibspFemale), \" \" , sum(df.sibspFemale))"
   ]
  },
  {
   "cell_type": "code",
   "execution_count": 75,
   "metadata": {},
   "outputs": [
    {
     "name": "stdout",
     "output_type": "stream",
     "text": [
      "0.155717761557   411\n",
      "0.271084337349   166\n",
      "0.785714285714   126\n",
      "0.712765957447   188\n"
     ]
    }
   ],
   "source": [
    "print(sum(df[df.pcssMale0==1].Survived)/sum(df.pcssMale0), \" \" , sum(df.pcssMale0))\n",
    "print(sum(df[df.pcssMale==1].Survived)/sum(df.pcssMale), \" \" , sum(df.pcssMale))\n",
    "print(sum(df[df.pcssFemale0==1].Survived)/sum(df.pcssFemale0), \" \" , sum(df.pcssFemale0))\n",
    "print(sum(df[df.pcssFemale==1].Survived)/sum(df.pcssFemale), \" \" , sum(df.pcssFemale))"
   ]
  },
  {
   "cell_type": "code",
   "execution_count": 76,
   "metadata": {},
   "outputs": [
    {
     "name": "stdout",
     "output_type": "stream",
     "text": [
      "Optimization terminated successfully.\n",
      "         Current function value: 0.508372\n",
      "         Iterations 6\n"
     ]
    },
    {
     "data": {
      "text/html": [
       "<table class=\"simpletable\">\n",
       "<caption>Logit Regression Results</caption>\n",
       "<tr>\n",
       "  <th>Dep. Variable:</th>     <td>Survived</td>     <th>  No. Observations:  </th>  <td>   891</td>  \n",
       "</tr>\n",
       "<tr>\n",
       "  <th>Model:</th>               <td>Logit</td>      <th>  Df Residuals:      </th>  <td>   887</td>  \n",
       "</tr>\n",
       "<tr>\n",
       "  <th>Method:</th>               <td>MLE</td>       <th>  Df Model:          </th>  <td>     3</td>  \n",
       "</tr>\n",
       "<tr>\n",
       "  <th>Date:</th>          <td>Sat, 24 Mar 2018</td> <th>  Pseudo R-squ.:     </th>  <td>0.2366</td>  \n",
       "</tr>\n",
       "<tr>\n",
       "  <th>Time:</th>              <td>12:56:35</td>     <th>  Log-Likelihood:    </th> <td> -452.96</td> \n",
       "</tr>\n",
       "<tr>\n",
       "  <th>converged:</th>           <td>True</td>       <th>  LL-Null:           </th> <td> -593.33</td> \n",
       "</tr>\n",
       "<tr>\n",
       "  <th> </th>                      <td> </td>        <th>  LLR p-value:       </th> <td>1.468e-60</td>\n",
       "</tr>\n",
       "</table>\n",
       "<table class=\"simpletable\">\n",
       "<tr>\n",
       "       <td></td>          <th>coef</th>     <th>std err</th>      <th>z</th>      <th>P>|z|</th>  <th>[0.025</th>    <th>0.975]</th>  \n",
       "</tr>\n",
       "<tr>\n",
       "  <th>pcssMale0</th>   <td>   -1.6904</td> <td>    0.136</td> <td>  -12.426</td> <td> 0.000</td> <td>   -1.957</td> <td>   -1.424</td>\n",
       "</tr>\n",
       "<tr>\n",
       "  <th>pcssMale</th>    <td>   -0.9891</td> <td>    0.175</td> <td>   -5.665</td> <td> 0.000</td> <td>   -1.331</td> <td>   -0.647</td>\n",
       "</tr>\n",
       "<tr>\n",
       "  <th>pcssFemale0</th> <td>    1.2993</td> <td>    0.217</td> <td>    5.984</td> <td> 0.000</td> <td>    0.874</td> <td>    1.725</td>\n",
       "</tr>\n",
       "<tr>\n",
       "  <th>pcssFemale</th>  <td>    0.9089</td> <td>    0.161</td> <td>    5.639</td> <td> 0.000</td> <td>    0.593</td> <td>    1.225</td>\n",
       "</tr>\n",
       "</table>"
      ],
      "text/plain": [
       "<class 'statsmodels.iolib.summary.Summary'>\n",
       "\"\"\"\n",
       "                           Logit Regression Results                           \n",
       "==============================================================================\n",
       "Dep. Variable:               Survived   No. Observations:                  891\n",
       "Model:                          Logit   Df Residuals:                      887\n",
       "Method:                           MLE   Df Model:                            3\n",
       "Date:                Sat, 24 Mar 2018   Pseudo R-squ.:                  0.2366\n",
       "Time:                        12:56:35   Log-Likelihood:                -452.96\n",
       "converged:                       True   LL-Null:                       -593.33\n",
       "                                        LLR p-value:                 1.468e-60\n",
       "===============================================================================\n",
       "                  coef    std err          z      P>|z|      [0.025      0.975]\n",
       "-------------------------------------------------------------------------------\n",
       "pcssMale0      -1.6904      0.136    -12.426      0.000      -1.957      -1.424\n",
       "pcssMale       -0.9891      0.175     -5.665      0.000      -1.331      -0.647\n",
       "pcssFemale0     1.2993      0.217      5.984      0.000       0.874       1.725\n",
       "pcssFemale      0.9089      0.161      5.639      0.000       0.593       1.225\n",
       "===============================================================================\n",
       "\"\"\""
      ]
     },
     "execution_count": 76,
     "metadata": {},
     "output_type": "execute_result"
    }
   ],
   "source": [
    "pcssX = df[['pcssMale0','pcssMale','pcssFemale0','pcssFemale']]\n",
    "model = sm.Logit(trainY,pcssX).fit()\n",
    "model.summary()"
   ]
  },
  {
   "cell_type": "markdown",
   "metadata": {},
   "source": [
    "### KNN Classifier"
   ]
  },
  {
   "cell_type": "code",
   "execution_count": 163,
   "metadata": {
    "collapsed": true
   },
   "outputs": [],
   "source": [
    "from sklearn.neighbors import KNeighborsClassifier"
   ]
  },
  {
   "cell_type": "code",
   "execution_count": 164,
   "metadata": {},
   "outputs": [
    {
     "data": {
      "text/plain": [
       "0.83277216610549942"
      ]
     },
     "execution_count": 164,
     "metadata": {},
     "output_type": "execute_result"
    }
   ],
   "source": [
    "knn = KNeighborsClassifier(n_neighbors=3)\n",
    "knn.fit(trainX, trainY,) \n",
    "knn.score(trainX, trainY)"
   ]
  },
  {
   "cell_type": "code",
   "execution_count": null,
   "metadata": {},
   "outputs": [],
   "source": []
  },
  {
   "cell_type": "code",
   "execution_count": null,
   "metadata": {
    "collapsed": true
   },
   "outputs": [],
   "source": []
  }
 ],
 "metadata": {
  "kernelspec": {
   "display_name": "Python 3",
   "language": "python",
   "name": "python3"
  },
  "language_info": {
   "codemirror_mode": {
    "name": "ipython",
    "version": 3
   },
   "file_extension": ".py",
   "mimetype": "text/x-python",
   "name": "python",
   "nbconvert_exporter": "python",
   "pygments_lexer": "ipython3",
   "version": "3.5.2"
  }
 },
 "nbformat": 4,
 "nbformat_minor": 1
}
